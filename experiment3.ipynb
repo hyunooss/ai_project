{
 "cells": [
  {
   "cell_type": "code",
   "execution_count": 15,
   "metadata": {},
   "outputs": [
    {
     "name": "stdout",
     "output_type": "stream",
     "text": [
      "이상치 데이터 인덱스: Int64Index([ 2943, 19812,  9904, 17013, 27553, 17337,  4848, 11673, 24351,\n",
      "            31519,\n",
      "            ...\n",
      "            20918, 39492, 41659, 15523, 30497, 34993, 27987, 33955, 16511,\n",
      "            44917],\n",
      "           dtype='int64', name='index', length=1819)\n",
      "X: (34606, 76)\n",
      "data_dummies: (34606, 100)\n"
     ]
    }
   ],
   "source": [
    "import numpy as np\n",
    "import pandas as pd\n",
    "import matplotlib.pyplot as plt\n",
    "%matplotlib inline\n",
    "\n",
    "from sklearn.preprocessing import OneHotEncoder\n",
    "\n",
    "train3=pd.read_csv(\"train2.csv\", index_col=0)\n",
    "test=pd.read_csv(\"test2.csv\", index_col=0)\n",
    "\n",
    "#familysize에 이상값(999, 44 등)이 있어서 이상값 제거를 하려고 했지만 생각보다 많이 제거됨 1819개 정도\n",
    "def get_outlier(df=None, column=None, weight=1.5):\n",
    "    fraud = df[df['voted']==1][column]\n",
    "    quantile_25 = np.percentile(fraud.values, 25)\n",
    "    quantile_75 = np.percentile(fraud.values, 75)\n",
    "    iqr = quantile_75 - quantile_25\n",
    "    iqr_weight = iqr * weight\n",
    "    lowest_val = quantile_25 - iqr_weight\n",
    "    highest_val = quantile_75 + iqr_weight\n",
    "    outlier_index = fraud[(fraud < lowest_val) | (fraud > highest_val)].index\n",
    "    return outlier_index\n",
    "outlier_index = get_outlier(df=train3, column='familysize', weight=1.5)\n",
    "print('이상치 데이터 인덱스:', outlier_index)\n",
    "\n",
    "train3.drop(outlier_index, axis=0, inplace=True)\n",
    "\n",
    "\n",
    "#trainX에 투표값 제거\n",
    "train_X = train3.drop('voted', axis = 1)\n",
    "#trainy에 투표값만 넣음\n",
    "train_y = train3['voted']\n",
    "\n",
    "#0(무응답)값을 변경하는데 뭐로 변경할지는 모르겠음\n",
    "zero_features = ['education', 'urban', 'hand', 'engnat', 'married']\n",
    "for feature in zero_features:\n",
    "    zero_count = train[train[feature]==0][feature].count() \n",
    "train_X[zero_features]=train_X[zero_features].replace(0, train_X[zero_features].mean())\n",
    "\n",
    "#원핫인코딩\n",
    "data_dummies=pd.get_dummies(train_X)\n",
    "\n",
    "data_dummies.head(15)\n",
    "\n",
    "print(\"X: {}\\ndata_dummies: {}\".format(train_X.shape, data_dummies.shape))"
   ]
  },
  {
   "cell_type": "code",
   "execution_count": 17,
   "metadata": {},
   "outputs": [
    {
     "name": "stdout",
     "output_type": "stream",
     "text": [
      "2      14321\n",
      "3       9037\n",
      "1       5261\n",
      "4       3917\n",
      "5       1521\n",
      "0        983\n",
      "6        662\n",
      "7        313\n",
      "8        175\n",
      "9        102\n",
      "10        48\n",
      "11        29\n",
      "12        16\n",
      "13        10\n",
      "14         7\n",
      "15         7\n",
      "44         3\n",
      "17         3\n",
      "16         2\n",
      "20         2\n",
      "21         2\n",
      "999        1\n",
      "34         1\n",
      "18         1\n",
      "30         1\n",
      "Name: familysize, dtype: int64\n"
     ]
    }
   ],
   "source": [
    "import numpy as np\n",
    "import pandas as pd\n",
    "import matplotlib.pyplot as plt\n",
    "%matplotlib inline\n",
    "\n",
    "databets_data = pd.read_csv('train2.csv')\n",
    "print(databets_data['familysize'].value_counts())"
   ]
  },
  {
   "cell_type": "code",
   "execution_count": null,
   "metadata": {},
   "outputs": [],
   "source": []
  }
 ],
 "metadata": {
  "kernelspec": {
   "display_name": "Python [conda env:ssu37] *",
   "language": "python",
   "name": "conda-env-ssu37-py"
  },
  "language_info": {
   "codemirror_mode": {
    "name": "ipython",
    "version": 3
   },
   "file_extension": ".py",
   "mimetype": "text/x-python",
   "name": "python",
   "nbconvert_exporter": "python",
   "pygments_lexer": "ipython3",
   "version": "3.7.9"
  }
 },
 "nbformat": 4,
 "nbformat_minor": 4
}
